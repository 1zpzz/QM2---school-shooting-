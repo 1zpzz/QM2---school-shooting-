{
  "nbformat": 4,
  "nbformat_minor": 0,
  "metadata": {
    "colab": {
      "provenance": [],
      "authorship_tag": "ABX9TyPXHa24CFnPR83I2Rler0ND",
      "include_colab_link": true
    },
    "kernelspec": {
      "name": "python3",
      "display_name": "Python 3"
    },
    "language_info": {
      "name": "python"
    }
  },
  "cells": [
    {
      "cell_type": "markdown",
      "metadata": {
        "id": "view-in-github",
        "colab_type": "text"
      },
      "source": [
        "<a href=\"https://colab.research.google.com/github/1zpzz/QM2---school-shooting-/blob/main/QM2_HypothesisTests_Shootings_vs_GunLaws.ipynb\" target=\"_parent\"><img src=\"https://colab.research.google.com/assets/colab-badge.svg\" alt=\"Open In Colab\"/></a>"
      ]
    },
    {
      "cell_type": "code",
      "execution_count": 20,
      "metadata": {
        "id": "4hAKYsNdTQvz"
      },
      "outputs": [],
      "source": [
        "import pandas as pd\n",
        "import numpy as np\n",
        "from scipy.stats import ttest_ind\n",
        "\n",
        "# Load the dataset, trying different delimiters and error handling\n",
        "file_path = '/content/Public v3 (2).csv'  # Replace with the actual path to your CSV file\n",
        "# Try using a different delimiter, such as a tab or semicolon\n",
        "# Also, explicitly set the number of expected fields with `names` if you know it\n",
        "# Check if line 12 has issues if `on_bad_lines` is working as expected\n",
        "try:\n",
        "    # Replace 'error_bad_lines' with 'on_bad_lines' and set it to 'skip' to skip bad lines\n",
        "    data = pd.read_csv(file_path, encoding='latin-1', delimiter=',', on_bad_lines='skip')\n",
        "#If the above still gives error, change delimiter to tab or semicolon\n",
        "#    data = pd.read_csv(file_path, encoding='latin-1', delimiter='\\t', on_bad_lines='skip')\n",
        "#    data = pd.read_csv(file_path, encoding='latin-1', delimiter=';', on_bad_lines='skip')\n",
        "except pd.errors.ParserError as e:\n",
        "    print(f\"ParserError: {e}\")\n",
        "    print(\"Error likely on line 12. Check the file for extra delimiters or inconsistencies.\")"
      ]
    },
    {
      "cell_type": "code",
      "source": [
        "\n",
        "# Cleaning and summarizing the data\n",
        "# Assuming the column for state is labeled \"state\" and each incident has a unique \"incident ID\"\n",
        "cleaned_data = data[['State', 'Year']].dropna(subset=['State', 'Year'])\n",
        "\n",
        "# Count the number of incidents per state\n",
        "state_incident_counts = cleaned_data.groupby('State').size().reset_index(name='incident_count')\n",
        "\n",
        "# Save the cleaned summary to a new file\n",
        "output_path = 'school_shooting_incidents_per_state.csv'\n",
        "state_incident_counts.to_csv(output_path, index=False)\n",
        "\n",
        "# Display the result\n",
        "print(state_incident_counts)\n",
        "# Cleaning and summarizing the data\n",
        "# Assuming the column for state is labeled \"state\" and each incident has a unique \"incident ID\"\n",
        "cleaned_data = data[['State', 'Year']].dropna(subset=['State', 'Year'])\n",
        "\n",
        "# Count the number of incidents per state\n",
        "state_incident_counts = cleaned_data.groupby('State').size().reset_index(name='incident_count')\n",
        "\n",
        "# Save the cleaned summary to a new file\n",
        "output_path = 'school_shooting_incidents_per_state.csv'\n",
        "state_incident_counts.to_csv(output_path, index=False)\n",
        "\n",
        "# Display the result\n",
        "print(state_incident_counts)"
      ],
      "metadata": {
        "id": "9gvrV0Leleq4",
        "colab": {
          "base_uri": "https://localhost:8080/"
        },
        "outputId": "750520d8-2da5-4d95-c40a-2e90fd78f60a"
      },
      "execution_count": 21,
      "outputs": [
        {
          "output_type": "stream",
          "name": "stdout",
          "text": [
            "   State  incident_count\n",
            "0     AK               7\n",
            "1     AL              76\n",
            "2     AR              36\n",
            "3     AZ              31\n",
            "4     CA             276\n",
            "5     CO              44\n",
            "6     CT              28\n",
            "7     DC              55\n",
            "8     DE              21\n",
            "9     FL             158\n",
            "10    GA             112\n",
            "11    HI               6\n",
            "12    IA              23\n",
            "13    ID              11\n",
            "14    IL             152\n",
            "15    IN              62\n",
            "16    KS              27\n",
            "17    KY              37\n",
            "18    LA              84\n",
            "19    MA              29\n",
            "20    MD              99\n",
            "21    ME               7\n",
            "22    MI             119\n",
            "23    MN              33\n",
            "24    MO              64\n",
            "25    MS              36\n",
            "26    MT              11\n",
            "27    NC             108\n",
            "28    ND               3\n",
            "29    NE              16\n",
            "30    NH               8\n",
            "31    NJ              32\n",
            "32    NM              29\n",
            "33    NV              25\n",
            "34    NY             116\n",
            "35    OH             142\n",
            "36    OK              30\n",
            "37    OR              37\n",
            "38    PA             124\n",
            "39    RI               8\n",
            "40    SC              58\n",
            "41    SD               5\n",
            "42    TN             107\n",
            "43    TX             234\n",
            "44    UT              25\n",
            "45    VA              70\n",
            "46    VI               1\n",
            "47    VT               6\n",
            "48    WA              67\n",
            "49    WI              47\n",
            "50    WV              10\n",
            "51    WY               2\n",
            "   State  incident_count\n",
            "0     AK               7\n",
            "1     AL              76\n",
            "2     AR              36\n",
            "3     AZ              31\n",
            "4     CA             276\n",
            "5     CO              44\n",
            "6     CT              28\n",
            "7     DC              55\n",
            "8     DE              21\n",
            "9     FL             158\n",
            "10    GA             112\n",
            "11    HI               6\n",
            "12    IA              23\n",
            "13    ID              11\n",
            "14    IL             152\n",
            "15    IN              62\n",
            "16    KS              27\n",
            "17    KY              37\n",
            "18    LA              84\n",
            "19    MA              29\n",
            "20    MD              99\n",
            "21    ME               7\n",
            "22    MI             119\n",
            "23    MN              33\n",
            "24    MO              64\n",
            "25    MS              36\n",
            "26    MT              11\n",
            "27    NC             108\n",
            "28    ND               3\n",
            "29    NE              16\n",
            "30    NH               8\n",
            "31    NJ              32\n",
            "32    NM              29\n",
            "33    NV              25\n",
            "34    NY             116\n",
            "35    OH             142\n",
            "36    OK              30\n",
            "37    OR              37\n",
            "38    PA             124\n",
            "39    RI               8\n",
            "40    SC              58\n",
            "41    SD               5\n",
            "42    TN             107\n",
            "43    TX             234\n",
            "44    UT              25\n",
            "45    VA              70\n",
            "46    VI               1\n",
            "47    VT               6\n",
            "48    WA              67\n",
            "49    WI              47\n",
            "50    WV              10\n",
            "51    WY               2\n"
          ]
        }
      ]
    },
    {
      "cell_type": "code",
      "source": [
        "file_path_2 = '/content/Gun_Law - Law Adoption Comparison as of 2021.csv'"
      ],
      "metadata": {
        "id": "VT7y72PDr2rf"
      },
      "execution_count": 28,
      "outputs": []
    },
    {
      "cell_type": "code",
      "source": [
        "# Replace with your actual filenames\n",
        "shooting_data_file = \"school_shooting_incidents_per_state.csv\"\n",
        "law_data_file = '/content/Gun_Law - Law Adoption Comparison as of 2021.csv'\n",
        "\n",
        "# Load the dataframes\n",
        "shooting_df = pd.read_csv(shooting_data_file)\n",
        "law_df = pd.read_csv(law_data_file)\n",
        "\n",
        "# Merge the dataframes (assuming 'State' is the common column)\n",
        "merged_df = pd.merge(shooting_df, law_df, on='State')\n",
        "\n",
        "# Specify the law to test\n",
        "law_to_test = 'Min age to purchase'  # Replace with the column name of the law\n",
        "\n",
        "# Separate the data into two groups: adopted (1) and not adopted (0)\n",
        "adopted_group = merged_df[merged_df[law_to_test] == 1]['incident_count']\n",
        "not_adopted_group = merged_df[merged_df[law_to_test] == 0]['incident_count']\n",
        "\n",
        "# Perform a one-tailed t-test (using equal_var=False for Welch’s t-test)\n",
        "t_stat, p_value = ttest_ind(adopted_group, not_adopted_group, equal_var=False)\n",
        "\n",
        "# Since we are performing a one-tailed test, divide the p-value by 2\n",
        "one_tailed_p_value = p_value / 2\n",
        "\n",
        "# Set the significance level\n",
        "alpha = 0.05\n",
        "\n",
        "# Print results\n",
        "print(f\"\\nHypothesis Test for Law: {law_to_test}\")\n",
        "print(f\"T-Statistic: {t_stat}\")\n",
        "print(f\"One-Tailed P-Value: {one_tailed_p_value}\")\n",
        "\n",
        "if one_tailed_p_value < alpha:\n",
        "    print(f\"Reject H₀: The law '{law_to_test}' significantly reduces school shooting rates.\")\n",
        "else:\n",
        "    print(f\"Fail to Reject H₀: The law '{law_to_test}' does not significantly affect school shooting rates.\")"
      ],
      "metadata": {
        "colab": {
          "base_uri": "https://localhost:8080/"
        },
        "id": "V47K1PtnsTo2",
        "outputId": "e67aed09-a3fe-4c15-89ce-66fcb89e9f2c"
      },
      "execution_count": 31,
      "outputs": [
        {
          "output_type": "stream",
          "name": "stdout",
          "text": [
            "\n",
            "Hypothesis Test for Law: Min age to purchase\n",
            "T-Statistic: 1.0817658626404454\n",
            "One-Tailed P-Value: 0.1430960556544014\n",
            "Fail to Reject H₀: The law 'Min age to purchase' does not significantly affect school shooting rates.\n"
          ]
        }
      ]
    },
    {
      "cell_type": "code",
      "source": [
        "# Replace with your actual filenames\n",
        "shooting_data_file = \"school_shooting_incidents_per_state.csv\"\n",
        "law_data_file = '/content/Gun_Law - Law Adoption Comparison as of 2021.csv'\n",
        "\n",
        "# Load the dataframes\n",
        "shooting_df = pd.read_csv(shooting_data_file)\n",
        "law_df = pd.read_csv(law_data_file)\n",
        "\n",
        "# Merge the dataframes (assuming 'State' is the common column)\n",
        "merged_df = pd.merge(shooting_df, law_df, on='State')\n",
        "\n",
        "# Specify the law to test\n",
        "law_to_test = 'No Guns in K12 Schools'  # Replace with the column name of the law\n",
        "\n",
        "# Separate the data into two groups: adopted (1) and not adopted (0)\n",
        "adopted_group = merged_df[merged_df[law_to_test] == 1]['incident_count']\n",
        "not_adopted_group = merged_df[merged_df[law_to_test] == 0]['incident_count']\n",
        "\n",
        "# Perform a one-tailed t-test (using equal_var=False for Welch’s t-test)\n",
        "t_stat, p_value = ttest_ind(adopted_group, not_adopted_group, equal_var=False)\n",
        "\n",
        "# Since we are performing a one-tailed test, divide the p-value by 2\n",
        "one_tailed_p_value = p_value / 2\n",
        "\n",
        "# Set the significance level\n",
        "alpha = 0.05\n",
        "\n",
        "# Print results\n",
        "print(f\"\\nHypothesis Test for Law: {law_to_test}\")\n",
        "print(f\"T-Statistic: {t_stat}\")\n",
        "print(f\"One-Tailed P-Value: {one_tailed_p_value}\")\n",
        "\n",
        "if one_tailed_p_value < alpha:\n",
        "    print(f\"Reject H₀: The law '{law_to_test}' significantly reduces school shooting rates.\")\n",
        "else:\n",
        "    print(f\"Fail to Reject H₀: The law '{law_to_test}' does not significantly affect school shooting rates.\")"
      ],
      "metadata": {
        "colab": {
          "base_uri": "https://localhost:8080/"
        },
        "id": "mz6QURSruWqH",
        "outputId": "9ab5ef56-dbcb-45c4-fbc5-1815d439220a"
      },
      "execution_count": 32,
      "outputs": [
        {
          "output_type": "stream",
          "name": "stdout",
          "text": [
            "\n",
            "Hypothesis Test for Law: No Guns in K12 Schools\n",
            "T-Statistic: -0.22429751902850428\n",
            "One-Tailed P-Value: 0.4120794279824097\n",
            "Fail to Reject H₀: The law 'No Guns in K12 Schools' does not significantly affect school shooting rates.\n"
          ]
        }
      ]
    },
    {
      "cell_type": "code",
      "source": [
        "# Replace with your actual filenames\n",
        "shooting_data_file = \"school_shooting_incidents_per_state.csv\"\n",
        "law_data_file = '/content/Gun_Law - Law Adoption Comparison as of 2021.csv'\n",
        "\n",
        "# Load the dataframes\n",
        "shooting_df = pd.read_csv(shooting_data_file)\n",
        "law_df = pd.read_csv(law_data_file)\n",
        "\n",
        "# Merge the dataframes (assuming 'State' is the common column)\n",
        "merged_df = pd.merge(shooting_df, law_df, on='State')\n",
        "\n",
        "# Specify the law to test\n",
        "law_to_test = 'School Threat Assessment team'  # Replace with the column name of the law\n",
        "\n",
        "# Separate the data into two groups: adopted (1) and not adopted (0)\n",
        "adopted_group = merged_df[merged_df[law_to_test] == 1]['incident_count']\n",
        "not_adopted_group = merged_df[merged_df[law_to_test] == 0]['incident_count']\n",
        "\n",
        "# Perform a one-tailed t-test (using equal_var=False for Welch’s t-test)\n",
        "t_stat, p_value = ttest_ind(adopted_group, not_adopted_group, equal_var=False)\n",
        "\n",
        "# Since we are performing a one-tailed test, divide the p-value by 2\n",
        "one_tailed_p_value = p_value / 2\n",
        "\n",
        "# Set the significance level\n",
        "alpha = 0.05\n",
        "\n",
        "# Print results\n",
        "print(f\"\\nHypothesis Test for Law: {law_to_test}\")\n",
        "print(f\"T-Statistic: {t_stat}\")\n",
        "print(f\"One-Tailed P-Value: {one_tailed_p_value}\")\n",
        "\n",
        "if one_tailed_p_value < alpha:\n",
        "    print(f\"Reject H₀: The law '{law_to_test}' significantly reduces school shooting rates.\")\n",
        "else:\n",
        "    print(f\"Fail to Reject H₀: The law '{law_to_test}' does not significantly affect school shooting rates.\")"
      ],
      "metadata": {
        "colab": {
          "base_uri": "https://localhost:8080/"
        },
        "id": "XNLGHcsev-ic",
        "outputId": "2824ca18-ed36-4805-f784-1066b11e3814"
      },
      "execution_count": 33,
      "outputs": [
        {
          "output_type": "stream",
          "name": "stdout",
          "text": [
            "\n",
            "Hypothesis Test for Law: School Threat Assessment team\n",
            "T-Statistic: 2.3193324879719697\n",
            "One-Tailed P-Value: 0.021214647730373175\n",
            "Reject H₀: The law 'School Threat Assessment team' significantly reduces school shooting rates.\n"
          ]
        }
      ]
    },
    {
      "cell_type": "code",
      "source": [
        "# Replace with your actual filenames\n",
        "shooting_data_file = \"school_shooting_incidents_per_state.csv\"\n",
        "law_data_file = '/content/Gun_Law - Law Adoption Comparison as of 2021.csv'\n",
        "\n",
        "# Load the dataframes\n",
        "shooting_df = pd.read_csv(shooting_data_file)\n",
        "law_df = pd.read_csv(law_data_file)\n",
        "\n",
        "# Merge the dataframes (assuming 'State' is the common column)\n",
        "merged_df = pd.merge(shooting_df, law_df, on='State')\n",
        "\n",
        "# Specify the law to test\n",
        "law_to_test = 'Secure Storage or Child access prevention required'  # Replace with the column name of the law\n",
        "\n",
        "# Separate the data into two groups: adopted (1) and not adopted (0)\n",
        "adopted_group = merged_df[merged_df[law_to_test] == 1]['incident_count']\n",
        "not_adopted_group = merged_df[merged_df[law_to_test] == 0]['incident_count']\n",
        "\n",
        "# Perform a one-tailed t-test (using equal_var=False for Welch’s t-test)\n",
        "t_stat, p_value = ttest_ind(adopted_group, not_adopted_group, equal_var=False)\n",
        "\n",
        "# Since we are performing a one-tailed test, divide the p-value by 2\n",
        "one_tailed_p_value = p_value / 2\n",
        "\n",
        "# Set the significance level\n",
        "alpha = 0.05\n",
        "\n",
        "# Print results\n",
        "print(f\"\\nHypothesis Test for Law: {law_to_test}\")\n",
        "print(f\"T-Statistic: {t_stat}\")\n",
        "print(f\"One-Tailed P-Value: {one_tailed_p_value}\")\n",
        "\n",
        "if one_tailed_p_value < alpha:\n",
        "    print(f\"Reject H₀: The law '{law_to_test}' significantly reduces school shooting rates.\")\n",
        "else:\n",
        "    print(f\"Fail to Reject H₀: The law '{law_to_test}' does not significantly affect school shooting rates.\")"
      ],
      "metadata": {
        "colab": {
          "base_uri": "https://localhost:8080/"
        },
        "id": "PUk4X6KCwK4e",
        "outputId": "90c429c0-506e-47f4-f8a6-9d3ef068710d"
      },
      "execution_count": 34,
      "outputs": [
        {
          "output_type": "stream",
          "name": "stdout",
          "text": [
            "\n",
            "Hypothesis Test for Law: Secure Storage or Child access prevention required\n",
            "T-Statistic: 1.3471985864163483\n",
            "One-Tailed P-Value: 0.09268084040002725\n",
            "Fail to Reject H₀: The law 'Secure Storage or Child access prevention required' does not significantly affect school shooting rates.\n"
          ]
        }
      ]
    },
    {
      "cell_type": "code",
      "source": [
        "# Replace with your actual filenames\n",
        "shooting_data_file = \"school_shooting_incidents_per_state.csv\"\n",
        "law_data_file = '/content/Gun_Law - Law Adoption Comparison as of 2021.csv'\n",
        "\n",
        "# Load the dataframes\n",
        "shooting_df = pd.read_csv(shooting_data_file)\n",
        "law_df = pd.read_csv(law_data_file)\n",
        "\n",
        "# Merge the dataframes (assuming 'State' is the common column)\n",
        "merged_df = pd.merge(shooting_df, law_df, on='State')\n",
        "\n",
        "# Specify the law to test\n",
        "law_to_test = 'Mental Health Prohibitor'  # Replace with the column name of the law\n",
        "\n",
        "# Separate the data into two groups: adopted (1) and not adopted (0)\n",
        "adopted_group = merged_df[merged_df[law_to_test] == 1]['incident_count']\n",
        "not_adopted_group = merged_df[merged_df[law_to_test] == 0]['incident_count']\n",
        "\n",
        "# Perform a one-tailed t-test (using equal_var=False for Welch’s t-test)\n",
        "t_stat, p_value = ttest_ind(adopted_group, not_adopted_group, equal_var=False)\n",
        "\n",
        "# Since we are performing a one-tailed test, divide the p-value by 2\n",
        "one_tailed_p_value = p_value / 2\n",
        "\n",
        "# Set the significance level\n",
        "alpha = 0.05\n",
        "\n",
        "# Print results\n",
        "print(f\"\\nHypothesis Test for Law: {law_to_test}\")\n",
        "print(f\"T-Statistic: {t_stat}\")\n",
        "print(f\"One-Tailed P-Value: {one_tailed_p_value}\")\n",
        "\n",
        "if one_tailed_p_value < alpha:\n",
        "    print(f\"Reject H₀: The law '{law_to_test}' significantly reduces school shooting rates.\")\n",
        "else:\n",
        "    print(f\"Fail to Reject H₀: The law '{law_to_test}' does not significantly affect school shooting rates.\")"
      ],
      "metadata": {
        "colab": {
          "base_uri": "https://localhost:8080/"
        },
        "id": "HCfpDseSw7Zt",
        "outputId": "dabc40e4-5723-4235-b7c5-00776fc21044"
      },
      "execution_count": 35,
      "outputs": [
        {
          "output_type": "stream",
          "name": "stdout",
          "text": [
            "\n",
            "Hypothesis Test for Law: Mental Health Prohibitor\n",
            "T-Statistic: 0.8256339565479928\n",
            "One-Tailed P-Value: 0.20666186511259688\n",
            "Fail to Reject H₀: The law 'Mental Health Prohibitor' does not significantly affect school shooting rates.\n"
          ]
        }
      ]
    },
    {
      "cell_type": "code",
      "source": [
        "# Replace with your actual filenames\n",
        "shooting_data_file = \"school_shooting_incidents_per_state.csv\"\n",
        "law_data_file = '/content/Gun_Law - Law Adoption Comparison as of 2021.csv'\n",
        "\n",
        "# Load the dataframes\n",
        "shooting_df = pd.read_csv(shooting_data_file)\n",
        "law_df = pd.read_csv(law_data_file)\n",
        "\n",
        "# Merge the dataframes (assuming 'State' is the common column)\n",
        "merged_df = pd.merge(shooting_df, law_df, on='State')\n",
        "\n",
        "# Specify the law to test\n",
        "law_to_test = 'Mental Health record reporting'  # Replace with the column name of the law\n",
        "\n",
        "# Separate the data into two groups: adopted (1) and not adopted (0)\n",
        "adopted_group = merged_df[merged_df[law_to_test] == 1]['incident_count']\n",
        "not_adopted_group = merged_df[merged_df[law_to_test] == 0]['incident_count']\n",
        "\n",
        "# Perform a one-tailed t-test (using equal_var=False for Welch’s t-test)\n",
        "t_stat, p_value = ttest_ind(adopted_group, not_adopted_group, equal_var=False)\n",
        "\n",
        "# Since we are performing a one-tailed test, divide the p-value by 2\n",
        "one_tailed_p_value = p_value / 2\n",
        "\n",
        "# Set the significance level\n",
        "alpha = 0.05\n",
        "\n",
        "# Print results\n",
        "print(f\"\\nHypothesis Test for Law: {law_to_test}\")\n",
        "print(f\"T-Statistic: {t_stat}\")\n",
        "print(f\"One-Tailed P-Value: {one_tailed_p_value}\")\n",
        "\n",
        "if one_tailed_p_value < alpha:\n",
        "    print(f\"Reject H₀: The law '{law_to_test}' significantly reduces school shooting rates.\")\n",
        "else:\n",
        "    print(f\"Fail to Reject H₀: The law '{law_to_test}' does not significantly affect school shooting rates.\")"
      ],
      "metadata": {
        "colab": {
          "base_uri": "https://localhost:8080/"
        },
        "id": "K4ci69TxxA0K",
        "outputId": "5ce5f3c0-5eb5-4056-a543-cd882fac271e"
      },
      "execution_count": 36,
      "outputs": [
        {
          "output_type": "stream",
          "name": "stdout",
          "text": [
            "\n",
            "Hypothesis Test for Law: Mental Health record reporting\n",
            "T-Statistic: 0.21105673162315697\n",
            "One-Tailed P-Value: 0.41972345392577465\n",
            "Fail to Reject H₀: The law 'Mental Health record reporting' does not significantly affect school shooting rates.\n"
          ]
        }
      ]
    }
  ]
}