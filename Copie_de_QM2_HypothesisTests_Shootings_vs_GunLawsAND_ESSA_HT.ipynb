{
  "nbformat": 4,
  "nbformat_minor": 0,
  "metadata": {
    "colab": {
      "provenance": [],
      "include_colab_link": true
    },
    "kernelspec": {
      "name": "python3",
      "display_name": "Python 3"
    },
    "language_info": {
      "name": "python"
    }
  },
  "cells": [
    {
      "cell_type": "markdown",
      "metadata": {
        "id": "view-in-github",
        "colab_type": "text"
      },
      "source": [
        "<a href=\"https://colab.research.google.com/github/1zpzz/QM2---school-shooting-/blob/main/Copie_de_QM2_HypothesisTests_Shootings_vs_GunLawsAND_ESSA_HT.ipynb\" target=\"_parent\"><img src=\"https://colab.research.google.com/assets/colab-badge.svg\" alt=\"Open In Colab\"/></a>"
      ]
    },
    {
      "cell_type": "code",
      "execution_count": null,
      "metadata": {
        "id": "4hAKYsNdTQvz",
        "outputId": "d38dbef5-fd3e-4bd1-fb86-be0df70535d4",
        "colab": {
          "base_uri": "https://localhost:8080/",
          "height": 365
        }
      },
      "outputs": [
        {
          "output_type": "error",
          "ename": "FileNotFoundError",
          "evalue": "[Errno 2] No such file or directory: '/content/Public v3 (2).csv'",
          "traceback": [
            "\u001b[0;31m---------------------------------------------------------------------------\u001b[0m",
            "\u001b[0;31mFileNotFoundError\u001b[0m                         Traceback (most recent call last)",
            "\u001b[0;32m<ipython-input-6-bc7ec6bc8acd>\u001b[0m in \u001b[0;36m<cell line: 0>\u001b[0;34m()\u001b[0m\n\u001b[1;32m     10\u001b[0m \u001b[0;32mtry\u001b[0m\u001b[0;34m:\u001b[0m\u001b[0;34m\u001b[0m\u001b[0;34m\u001b[0m\u001b[0m\n\u001b[1;32m     11\u001b[0m     \u001b[0;31m# Replace 'error_bad_lines' with 'on_bad_lines' and set it to 'skip' to skip bad lines\u001b[0m\u001b[0;34m\u001b[0m\u001b[0;34m\u001b[0m\u001b[0m\n\u001b[0;32m---> 12\u001b[0;31m     \u001b[0mdata\u001b[0m \u001b[0;34m=\u001b[0m \u001b[0mpd\u001b[0m\u001b[0;34m.\u001b[0m\u001b[0mread_csv\u001b[0m\u001b[0;34m(\u001b[0m\u001b[0mfile_path\u001b[0m\u001b[0;34m,\u001b[0m \u001b[0mencoding\u001b[0m\u001b[0;34m=\u001b[0m\u001b[0;34m'latin-1'\u001b[0m\u001b[0;34m,\u001b[0m \u001b[0mdelimiter\u001b[0m\u001b[0;34m=\u001b[0m\u001b[0;34m','\u001b[0m\u001b[0;34m,\u001b[0m \u001b[0mon_bad_lines\u001b[0m\u001b[0;34m=\u001b[0m\u001b[0;34m'skip'\u001b[0m\u001b[0;34m)\u001b[0m\u001b[0;34m\u001b[0m\u001b[0;34m\u001b[0m\u001b[0m\n\u001b[0m\u001b[1;32m     13\u001b[0m \u001b[0;31m#If the above still gives error, change delimiter to tab or semicolon\u001b[0m\u001b[0;34m\u001b[0m\u001b[0;34m\u001b[0m\u001b[0m\n\u001b[1;32m     14\u001b[0m \u001b[0;31m#    data = pd.read_csv(file_path, encoding='latin-1', delimiter='\\t', on_bad_lines='skip')\u001b[0m\u001b[0;34m\u001b[0m\u001b[0;34m\u001b[0m\u001b[0m\n",
            "\u001b[0;32m/usr/local/lib/python3.11/dist-packages/pandas/io/parsers/readers.py\u001b[0m in \u001b[0;36mread_csv\u001b[0;34m(filepath_or_buffer, sep, delimiter, header, names, index_col, usecols, dtype, engine, converters, true_values, false_values, skipinitialspace, skiprows, skipfooter, nrows, na_values, keep_default_na, na_filter, verbose, skip_blank_lines, parse_dates, infer_datetime_format, keep_date_col, date_parser, date_format, dayfirst, cache_dates, iterator, chunksize, compression, thousands, decimal, lineterminator, quotechar, quoting, doublequote, escapechar, comment, encoding, encoding_errors, dialect, on_bad_lines, delim_whitespace, low_memory, memory_map, float_precision, storage_options, dtype_backend)\u001b[0m\n\u001b[1;32m   1024\u001b[0m     \u001b[0mkwds\u001b[0m\u001b[0;34m.\u001b[0m\u001b[0mupdate\u001b[0m\u001b[0;34m(\u001b[0m\u001b[0mkwds_defaults\u001b[0m\u001b[0;34m)\u001b[0m\u001b[0;34m\u001b[0m\u001b[0;34m\u001b[0m\u001b[0m\n\u001b[1;32m   1025\u001b[0m \u001b[0;34m\u001b[0m\u001b[0m\n\u001b[0;32m-> 1026\u001b[0;31m     \u001b[0;32mreturn\u001b[0m \u001b[0m_read\u001b[0m\u001b[0;34m(\u001b[0m\u001b[0mfilepath_or_buffer\u001b[0m\u001b[0;34m,\u001b[0m \u001b[0mkwds\u001b[0m\u001b[0;34m)\u001b[0m\u001b[0;34m\u001b[0m\u001b[0;34m\u001b[0m\u001b[0m\n\u001b[0m\u001b[1;32m   1027\u001b[0m \u001b[0;34m\u001b[0m\u001b[0m\n\u001b[1;32m   1028\u001b[0m \u001b[0;34m\u001b[0m\u001b[0m\n",
            "\u001b[0;32m/usr/local/lib/python3.11/dist-packages/pandas/io/parsers/readers.py\u001b[0m in \u001b[0;36m_read\u001b[0;34m(filepath_or_buffer, kwds)\u001b[0m\n\u001b[1;32m    618\u001b[0m \u001b[0;34m\u001b[0m\u001b[0m\n\u001b[1;32m    619\u001b[0m     \u001b[0;31m# Create the parser.\u001b[0m\u001b[0;34m\u001b[0m\u001b[0;34m\u001b[0m\u001b[0m\n\u001b[0;32m--> 620\u001b[0;31m     \u001b[0mparser\u001b[0m \u001b[0;34m=\u001b[0m \u001b[0mTextFileReader\u001b[0m\u001b[0;34m(\u001b[0m\u001b[0mfilepath_or_buffer\u001b[0m\u001b[0;34m,\u001b[0m \u001b[0;34m**\u001b[0m\u001b[0mkwds\u001b[0m\u001b[0;34m)\u001b[0m\u001b[0;34m\u001b[0m\u001b[0;34m\u001b[0m\u001b[0m\n\u001b[0m\u001b[1;32m    621\u001b[0m \u001b[0;34m\u001b[0m\u001b[0m\n\u001b[1;32m    622\u001b[0m     \u001b[0;32mif\u001b[0m \u001b[0mchunksize\u001b[0m \u001b[0;32mor\u001b[0m \u001b[0miterator\u001b[0m\u001b[0;34m:\u001b[0m\u001b[0;34m\u001b[0m\u001b[0;34m\u001b[0m\u001b[0m\n",
            "\u001b[0;32m/usr/local/lib/python3.11/dist-packages/pandas/io/parsers/readers.py\u001b[0m in \u001b[0;36m__init__\u001b[0;34m(self, f, engine, **kwds)\u001b[0m\n\u001b[1;32m   1618\u001b[0m \u001b[0;34m\u001b[0m\u001b[0m\n\u001b[1;32m   1619\u001b[0m         \u001b[0mself\u001b[0m\u001b[0;34m.\u001b[0m\u001b[0mhandles\u001b[0m\u001b[0;34m:\u001b[0m \u001b[0mIOHandles\u001b[0m \u001b[0;34m|\u001b[0m \u001b[0;32mNone\u001b[0m \u001b[0;34m=\u001b[0m \u001b[0;32mNone\u001b[0m\u001b[0;34m\u001b[0m\u001b[0;34m\u001b[0m\u001b[0m\n\u001b[0;32m-> 1620\u001b[0;31m         \u001b[0mself\u001b[0m\u001b[0;34m.\u001b[0m\u001b[0m_engine\u001b[0m \u001b[0;34m=\u001b[0m \u001b[0mself\u001b[0m\u001b[0;34m.\u001b[0m\u001b[0m_make_engine\u001b[0m\u001b[0;34m(\u001b[0m\u001b[0mf\u001b[0m\u001b[0;34m,\u001b[0m \u001b[0mself\u001b[0m\u001b[0;34m.\u001b[0m\u001b[0mengine\u001b[0m\u001b[0;34m)\u001b[0m\u001b[0;34m\u001b[0m\u001b[0;34m\u001b[0m\u001b[0m\n\u001b[0m\u001b[1;32m   1621\u001b[0m \u001b[0;34m\u001b[0m\u001b[0m\n\u001b[1;32m   1622\u001b[0m     \u001b[0;32mdef\u001b[0m \u001b[0mclose\u001b[0m\u001b[0;34m(\u001b[0m\u001b[0mself\u001b[0m\u001b[0;34m)\u001b[0m \u001b[0;34m->\u001b[0m \u001b[0;32mNone\u001b[0m\u001b[0;34m:\u001b[0m\u001b[0;34m\u001b[0m\u001b[0;34m\u001b[0m\u001b[0m\n",
            "\u001b[0;32m/usr/local/lib/python3.11/dist-packages/pandas/io/parsers/readers.py\u001b[0m in \u001b[0;36m_make_engine\u001b[0;34m(self, f, engine)\u001b[0m\n\u001b[1;32m   1878\u001b[0m                 \u001b[0;32mif\u001b[0m \u001b[0;34m\"b\"\u001b[0m \u001b[0;32mnot\u001b[0m \u001b[0;32min\u001b[0m \u001b[0mmode\u001b[0m\u001b[0;34m:\u001b[0m\u001b[0;34m\u001b[0m\u001b[0;34m\u001b[0m\u001b[0m\n\u001b[1;32m   1879\u001b[0m                     \u001b[0mmode\u001b[0m \u001b[0;34m+=\u001b[0m \u001b[0;34m\"b\"\u001b[0m\u001b[0;34m\u001b[0m\u001b[0;34m\u001b[0m\u001b[0m\n\u001b[0;32m-> 1880\u001b[0;31m             self.handles = get_handle(\n\u001b[0m\u001b[1;32m   1881\u001b[0m                 \u001b[0mf\u001b[0m\u001b[0;34m,\u001b[0m\u001b[0;34m\u001b[0m\u001b[0;34m\u001b[0m\u001b[0m\n\u001b[1;32m   1882\u001b[0m                 \u001b[0mmode\u001b[0m\u001b[0;34m,\u001b[0m\u001b[0;34m\u001b[0m\u001b[0;34m\u001b[0m\u001b[0m\n",
            "\u001b[0;32m/usr/local/lib/python3.11/dist-packages/pandas/io/common.py\u001b[0m in \u001b[0;36mget_handle\u001b[0;34m(path_or_buf, mode, encoding, compression, memory_map, is_text, errors, storage_options)\u001b[0m\n\u001b[1;32m    871\u001b[0m         \u001b[0;32mif\u001b[0m \u001b[0mioargs\u001b[0m\u001b[0;34m.\u001b[0m\u001b[0mencoding\u001b[0m \u001b[0;32mand\u001b[0m \u001b[0;34m\"b\"\u001b[0m \u001b[0;32mnot\u001b[0m \u001b[0;32min\u001b[0m \u001b[0mioargs\u001b[0m\u001b[0;34m.\u001b[0m\u001b[0mmode\u001b[0m\u001b[0;34m:\u001b[0m\u001b[0;34m\u001b[0m\u001b[0;34m\u001b[0m\u001b[0m\n\u001b[1;32m    872\u001b[0m             \u001b[0;31m# Encoding\u001b[0m\u001b[0;34m\u001b[0m\u001b[0;34m\u001b[0m\u001b[0m\n\u001b[0;32m--> 873\u001b[0;31m             handle = open(\n\u001b[0m\u001b[1;32m    874\u001b[0m                 \u001b[0mhandle\u001b[0m\u001b[0;34m,\u001b[0m\u001b[0;34m\u001b[0m\u001b[0;34m\u001b[0m\u001b[0m\n\u001b[1;32m    875\u001b[0m                 \u001b[0mioargs\u001b[0m\u001b[0;34m.\u001b[0m\u001b[0mmode\u001b[0m\u001b[0;34m,\u001b[0m\u001b[0;34m\u001b[0m\u001b[0;34m\u001b[0m\u001b[0m\n",
            "\u001b[0;31mFileNotFoundError\u001b[0m: [Errno 2] No such file or directory: '/content/Public v3 (2).csv'"
          ]
        }
      ],
      "source": [
        "import pandas as pd\n",
        "import numpy as np\n",
        "from scipy.stats import ttest_ind\n",
        "\n",
        "# Load the dataset, trying different delimiters and error handling\n",
        "file_path = '/content/Public v3 (2).csv'  # Replace with the actual path to your CSV file\n",
        "# Try using a different delimiter, such as a tab or semicolon\n",
        "# Also, explicitly set the number of expected fields with `names` if you know it\n",
        "# Check if line 12 has issues if `on_bad_lines` is working as expected\n",
        "try:\n",
        "    # Replace 'error_bad_lines' with 'on_bad_lines' and set it to 'skip' to skip bad lines\n",
        "    data = pd.read_csv(file_path, encoding='latin-1', delimiter=',', on_bad_lines='skip')\n",
        "#If the above still gives error, change delimiter to tab or semicolon\n",
        "#    data = pd.read_csv(file_path, encoding='latin-1', delimiter='\\t', on_bad_lines='skip')\n",
        "#    data = pd.read_csv(file_path, encoding='latin-1', delimiter=';', on_bad_lines='skip')\n",
        "except pd.errors.ParserError as e:\n",
        "    print(f\"ParserError: {e}\")\n",
        "    print(\"Error likely on line 12. Check the file for extra delimiters or inconsistencies.\")"
      ]
    },
    {
      "cell_type": "code",
      "source": [
        "\n",
        "# Cleaning and summarizing the data\n",
        "# Assuming the column for state is labeled \"state\" and each incident has a unique \"incident ID\"\n",
        "cleaned_data = data[['State', 'Year']].dropna(subset=['State', 'Year'])\n",
        "\n",
        "# Count the number of incidents per state\n",
        "state_incident_counts = cleaned_data.groupby('State').size().reset_index(name='incident_count')\n",
        "\n",
        "# Save the cleaned summary to a new file\n",
        "output_path = 'school_shooting_incidents_per_state.csv'\n",
        "state_incident_counts.to_csv(output_path, index=False)\n",
        "\n",
        "# Display the result\n",
        "print(state_incident_counts)\n",
        "# Cleaning and summarizing the data\n",
        "# Assuming the column for state is labeled \"state\" and each incident has a unique \"incident ID\"\n",
        "cleaned_data = data[['State', 'Year']].dropna(subset=['State', 'Year'])\n",
        "\n",
        "# Count the number of incidents per state\n",
        "state_incident_counts = cleaned_data.groupby('State').size().reset_index(name='incident_count')\n",
        "\n",
        "# Save the cleaned summary to a new file\n",
        "output_path = 'school_shooting_incidents_per_state.csv'\n",
        "state_incident_counts.to_csv(output_path, index=False)\n",
        "\n",
        "# Display the result\n",
        "print(state_incident_counts)"
      ],
      "metadata": {
        "id": "9gvrV0Leleq4",
        "colab": {
          "base_uri": "https://localhost:8080/",
          "height": 216
        },
        "outputId": "ab9760cd-764d-4c96-cdd5-7dd43f643907"
      },
      "execution_count": null,
      "outputs": [
        {
          "output_type": "error",
          "ename": "NameError",
          "evalue": "name 'data' is not defined",
          "traceback": [
            "\u001b[0;31m---------------------------------------------------------------------------\u001b[0m",
            "\u001b[0;31mNameError\u001b[0m                                 Traceback (most recent call last)",
            "\u001b[0;32m<ipython-input-5-9e0d0e125da4>\u001b[0m in \u001b[0;36m<cell line: 0>\u001b[0;34m()\u001b[0m\n\u001b[1;32m      1\u001b[0m \u001b[0;31m# Cleaning and summarizing the data\u001b[0m\u001b[0;34m\u001b[0m\u001b[0;34m\u001b[0m\u001b[0m\n\u001b[1;32m      2\u001b[0m \u001b[0;31m# Assuming the column for state is labeled \"state\" and each incident has a unique \"incident ID\"\u001b[0m\u001b[0;34m\u001b[0m\u001b[0;34m\u001b[0m\u001b[0m\n\u001b[0;32m----> 3\u001b[0;31m \u001b[0mcleaned_data\u001b[0m \u001b[0;34m=\u001b[0m \u001b[0mdata\u001b[0m\u001b[0;34m[\u001b[0m\u001b[0;34m[\u001b[0m\u001b[0;34m'State'\u001b[0m\u001b[0;34m,\u001b[0m \u001b[0;34m'Year'\u001b[0m\u001b[0;34m]\u001b[0m\u001b[0;34m]\u001b[0m\u001b[0;34m.\u001b[0m\u001b[0mdropna\u001b[0m\u001b[0;34m(\u001b[0m\u001b[0msubset\u001b[0m\u001b[0;34m=\u001b[0m\u001b[0;34m[\u001b[0m\u001b[0;34m'State'\u001b[0m\u001b[0;34m,\u001b[0m \u001b[0;34m'Year'\u001b[0m\u001b[0;34m]\u001b[0m\u001b[0;34m)\u001b[0m\u001b[0;34m\u001b[0m\u001b[0;34m\u001b[0m\u001b[0m\n\u001b[0m\u001b[1;32m      4\u001b[0m \u001b[0;34m\u001b[0m\u001b[0m\n\u001b[1;32m      5\u001b[0m \u001b[0;31m# Count the number of incidents per state\u001b[0m\u001b[0;34m\u001b[0m\u001b[0;34m\u001b[0m\u001b[0m\n",
            "\u001b[0;31mNameError\u001b[0m: name 'data' is not defined"
          ]
        }
      ]
    },
    {
      "cell_type": "code",
      "source": [
        "file_path_2 = '/content/Gun_Law - Law Adoption Comparison as of 2021.csv'"
      ],
      "metadata": {
        "id": "VT7y72PDr2rf"
      },
      "execution_count": null,
      "outputs": []
    },
    {
      "cell_type": "code",
      "source": [
        "# Replace with your actual filenames\n",
        "shooting_data_file = \"school_shooting_incidents_per_state.csv\"\n",
        "law_data_file = '/content/Gun_Law - Law Adoption Comparison as of 2021.csv'\n",
        "\n",
        "# Load the dataframes\n",
        "shooting_df = pd.read_csv(shooting_data_file)\n",
        "law_df = pd.read_csv(law_data_file)\n",
        "\n",
        "# Merge the dataframes (assuming 'State' is the common column)\n",
        "merged_df = pd.merge(shooting_df, law_df, on='State')\n",
        "\n",
        "# Specify the law to test\n",
        "law_to_test = 'Min age to purchase'  # Replace with the column name of the law\n",
        "\n",
        "# Separate the data into two groups: adopted (1) and not adopted (0)\n",
        "adopted_group = merged_df[merged_df[law_to_test] == 1]['incident_count']\n",
        "not_adopted_group = merged_df[merged_df[law_to_test] == 0]['incident_count']\n",
        "\n",
        "# Perform a one-tailed t-test (using equal_var=False for Welch’s t-test)\n",
        "t_stat, p_value = ttest_ind(adopted_group, not_adopted_group, equal_var=False)\n",
        "\n",
        "# Since we are performing a one-tailed test, divide the p-value by 2\n",
        "one_tailed_p_value = p_value / 2\n",
        "\n",
        "# Set the significance level\n",
        "alpha = 0.05\n",
        "\n",
        "# Print results\n",
        "print(f\"\\nHypothesis Test for Law: {law_to_test}\")\n",
        "print(f\"T-Statistic: {t_stat}\")\n",
        "print(f\"One-Tailed P-Value: {one_tailed_p_value}\")\n",
        "\n",
        "if one_tailed_p_value < alpha:\n",
        "    print(f\"Reject H₀: The law '{law_to_test}' significantly reduces school shooting rates.\")\n",
        "else:\n",
        "    print(f\"Fail to Reject H₀: The law '{law_to_test}' does not significantly affect school shooting rates.\")"
      ],
      "metadata": {
        "colab": {
          "base_uri": "https://localhost:8080/"
        },
        "id": "V47K1PtnsTo2",
        "outputId": "e67aed09-a3fe-4c15-89ce-66fcb89e9f2c"
      },
      "execution_count": null,
      "outputs": [
        {
          "output_type": "stream",
          "name": "stdout",
          "text": [
            "\n",
            "Hypothesis Test for Law: Min age to purchase\n",
            "T-Statistic: 1.0817658626404454\n",
            "One-Tailed P-Value: 0.1430960556544014\n",
            "Fail to Reject H₀: The law 'Min age to purchase' does not significantly affect school shooting rates.\n"
          ]
        }
      ]
    },
    {
      "cell_type": "code",
      "source": [
        "# Replace with your actual filenames\n",
        "shooting_data_file = \"school_shooting_incidents_per_state.csv\"\n",
        "law_data_file = '/content/Gun_Law - Law Adoption Comparison as of 2021.csv'\n",
        "\n",
        "# Load the dataframes\n",
        "shooting_df = pd.read_csv(shooting_data_file)\n",
        "law_df = pd.read_csv(law_data_file)\n",
        "\n",
        "# Merge the dataframes (assuming 'State' is the common column)\n",
        "merged_df = pd.merge(shooting_df, law_df, on='State')\n",
        "\n",
        "# Specify the law to test\n",
        "law_to_test = 'No Guns in K12 Schools'  # Replace with the column name of the law\n",
        "\n",
        "# Separate the data into two groups: adopted (1) and not adopted (0)\n",
        "adopted_group = merged_df[merged_df[law_to_test] == 1]['incident_count']\n",
        "not_adopted_group = merged_df[merged_df[law_to_test] == 0]['incident_count']\n",
        "\n",
        "# Perform a one-tailed t-test (using equal_var=False for Welch’s t-test)\n",
        "t_stat, p_value = ttest_ind(adopted_group, not_adopted_group, equal_var=False)\n",
        "\n",
        "# Since we are performing a one-tailed test, divide the p-value by 2\n",
        "one_tailed_p_value = p_value / 2\n",
        "\n",
        "# Set the significance level\n",
        "alpha = 0.05\n",
        "\n",
        "# Print results\n",
        "print(f\"\\nHypothesis Test for Law: {law_to_test}\")\n",
        "print(f\"T-Statistic: {t_stat}\")\n",
        "print(f\"One-Tailed P-Value: {one_tailed_p_value}\")\n",
        "\n",
        "if one_tailed_p_value < alpha:\n",
        "    print(f\"Reject H₀: The law '{law_to_test}' significantly reduces school shooting rates.\")\n",
        "else:\n",
        "    print(f\"Fail to Reject H₀: The law '{law_to_test}' does not significantly affect school shooting rates.\")"
      ],
      "metadata": {
        "colab": {
          "base_uri": "https://localhost:8080/"
        },
        "id": "mz6QURSruWqH",
        "outputId": "9ab5ef56-dbcb-45c4-fbc5-1815d439220a"
      },
      "execution_count": null,
      "outputs": [
        {
          "output_type": "stream",
          "name": "stdout",
          "text": [
            "\n",
            "Hypothesis Test for Law: No Guns in K12 Schools\n",
            "T-Statistic: -0.22429751902850428\n",
            "One-Tailed P-Value: 0.4120794279824097\n",
            "Fail to Reject H₀: The law 'No Guns in K12 Schools' does not significantly affect school shooting rates.\n"
          ]
        }
      ]
    },
    {
      "cell_type": "code",
      "source": [
        "# Replace with your actual filenames\n",
        "shooting_data_file = \"school_shooting_incidents_per_state.csv\"\n",
        "law_data_file = '/content/Gun_Law - Law Adoption Comparison as of 2021.csv'\n",
        "\n",
        "# Load the dataframes\n",
        "shooting_df = pd.read_csv(shooting_data_file)\n",
        "law_df = pd.read_csv(law_data_file)\n",
        "\n",
        "# Merge the dataframes (assuming 'State' is the common column)\n",
        "merged_df = pd.merge(shooting_df, law_df, on='State')\n",
        "\n",
        "# Specify the law to test\n",
        "law_to_test = 'School Threat Assessment team'  # Replace with the column name of the law\n",
        "\n",
        "# Separate the data into two groups: adopted (1) and not adopted (0)\n",
        "adopted_group = merged_df[merged_df[law_to_test] == 1]['incident_count']\n",
        "not_adopted_group = merged_df[merged_df[law_to_test] == 0]['incident_count']\n",
        "\n",
        "# Perform a one-tailed t-test (using equal_var=False for Welch’s t-test)\n",
        "t_stat, p_value = ttest_ind(adopted_group, not_adopted_group, equal_var=False)\n",
        "\n",
        "# Since we are performing a one-tailed test, divide the p-value by 2\n",
        "one_tailed_p_value = p_value / 2\n",
        "\n",
        "# Set the significance level\n",
        "alpha = 0.05\n",
        "\n",
        "# Print results\n",
        "print(f\"\\nHypothesis Test for Law: {law_to_test}\")\n",
        "print(f\"T-Statistic: {t_stat}\")\n",
        "print(f\"One-Tailed P-Value: {one_tailed_p_value}\")\n",
        "\n",
        "if one_tailed_p_value < alpha:\n",
        "    print(f\"Reject H₀: The law '{law_to_test}' significantly reduces school shooting rates.\")\n",
        "else:\n",
        "    print(f\"Fail to Reject H₀: The law '{law_to_test}' does not significantly affect school shooting rates.\")"
      ],
      "metadata": {
        "colab": {
          "base_uri": "https://localhost:8080/"
        },
        "id": "XNLGHcsev-ic",
        "outputId": "2824ca18-ed36-4805-f784-1066b11e3814"
      },
      "execution_count": null,
      "outputs": [
        {
          "output_type": "stream",
          "name": "stdout",
          "text": [
            "\n",
            "Hypothesis Test for Law: School Threat Assessment team\n",
            "T-Statistic: 2.3193324879719697\n",
            "One-Tailed P-Value: 0.021214647730373175\n",
            "Reject H₀: The law 'School Threat Assessment team' significantly reduces school shooting rates.\n"
          ]
        }
      ]
    },
    {
      "cell_type": "code",
      "source": [
        "# Replace with your actual filenames\n",
        "shooting_data_file = \"school_shooting_incidents_per_state.csv\"\n",
        "law_data_file = '/content/Gun_Law - Law Adoption Comparison as of 2021.csv'\n",
        "\n",
        "# Load the dataframes\n",
        "shooting_df = pd.read_csv(shooting_data_file)\n",
        "law_df = pd.read_csv(law_data_file)\n",
        "\n",
        "# Merge the dataframes (assuming 'State' is the common column)\n",
        "merged_df = pd.merge(shooting_df, law_df, on='State')\n",
        "\n",
        "# Specify the law to test\n",
        "law_to_test = 'Secure Storage or Child access prevention required'  # Replace with the column name of the law\n",
        "\n",
        "# Separate the data into two groups: adopted (1) and not adopted (0)\n",
        "adopted_group = merged_df[merged_df[law_to_test] == 1]['incident_count']\n",
        "not_adopted_group = merged_df[merged_df[law_to_test] == 0]['incident_count']\n",
        "\n",
        "# Perform a one-tailed t-test (using equal_var=False for Welch’s t-test)\n",
        "t_stat, p_value = ttest_ind(adopted_group, not_adopted_group, equal_var=False)\n",
        "\n",
        "# Since we are performing a one-tailed test, divide the p-value by 2\n",
        "one_tailed_p_value = p_value / 2\n",
        "\n",
        "# Set the significance level\n",
        "alpha = 0.05\n",
        "\n",
        "# Print results\n",
        "print(f\"\\nHypothesis Test for Law: {law_to_test}\")\n",
        "print(f\"T-Statistic: {t_stat}\")\n",
        "print(f\"One-Tailed P-Value: {one_tailed_p_value}\")\n",
        "\n",
        "if one_tailed_p_value < alpha:\n",
        "    print(f\"Reject H₀: The law '{law_to_test}' significantly reduces school shooting rates.\")\n",
        "else:\n",
        "    print(f\"Fail to Reject H₀: The law '{law_to_test}' does not significantly affect school shooting rates.\")"
      ],
      "metadata": {
        "colab": {
          "base_uri": "https://localhost:8080/"
        },
        "id": "PUk4X6KCwK4e",
        "outputId": "90c429c0-506e-47f4-f8a6-9d3ef068710d"
      },
      "execution_count": null,
      "outputs": [
        {
          "output_type": "stream",
          "name": "stdout",
          "text": [
            "\n",
            "Hypothesis Test for Law: Secure Storage or Child access prevention required\n",
            "T-Statistic: 1.3471985864163483\n",
            "One-Tailed P-Value: 0.09268084040002725\n",
            "Fail to Reject H₀: The law 'Secure Storage or Child access prevention required' does not significantly affect school shooting rates.\n"
          ]
        }
      ]
    },
    {
      "cell_type": "code",
      "source": [
        "# Replace with your actual filenames\n",
        "shooting_data_file = \"school_shooting_incidents_per_state.csv\"\n",
        "law_data_file = '/content/Gun_Law - Law Adoption Comparison as of 2021.csv'\n",
        "\n",
        "# Load the dataframes\n",
        "shooting_df = pd.read_csv(shooting_data_file)\n",
        "law_df = pd.read_csv(law_data_file)\n",
        "\n",
        "# Merge the dataframes (assuming 'State' is the common column)\n",
        "merged_df = pd.merge(shooting_df, law_df, on='State')\n",
        "\n",
        "# Specify the law to test\n",
        "law_to_test = 'Mental Health Prohibitor'  # Replace with the column name of the law\n",
        "\n",
        "# Separate the data into two groups: adopted (1) and not adopted (0)\n",
        "adopted_group = merged_df[merged_df[law_to_test] == 1]['incident_count']\n",
        "not_adopted_group = merged_df[merged_df[law_to_test] == 0]['incident_count']\n",
        "\n",
        "# Perform a one-tailed t-test (using equal_var=False for Welch’s t-test)\n",
        "t_stat, p_value = ttest_ind(adopted_group, not_adopted_group, equal_var=False)\n",
        "\n",
        "# Since we are performing a one-tailed test, divide the p-value by 2\n",
        "one_tailed_p_value = p_value / 2\n",
        "\n",
        "# Set the significance level\n",
        "alpha = 0.05\n",
        "\n",
        "# Print results\n",
        "print(f\"\\nHypothesis Test for Law: {law_to_test}\")\n",
        "print(f\"T-Statistic: {t_stat}\")\n",
        "print(f\"One-Tailed P-Value: {one_tailed_p_value}\")\n",
        "\n",
        "if one_tailed_p_value < alpha:\n",
        "    print(f\"Reject H₀: The law '{law_to_test}' significantly reduces school shooting rates.\")\n",
        "else:\n",
        "    print(f\"Fail to Reject H₀: The law '{law_to_test}' does not significantly affect school shooting rates.\")"
      ],
      "metadata": {
        "colab": {
          "base_uri": "https://localhost:8080/"
        },
        "id": "HCfpDseSw7Zt",
        "outputId": "dabc40e4-5723-4235-b7c5-00776fc21044"
      },
      "execution_count": null,
      "outputs": [
        {
          "output_type": "stream",
          "name": "stdout",
          "text": [
            "\n",
            "Hypothesis Test for Law: Mental Health Prohibitor\n",
            "T-Statistic: 0.8256339565479928\n",
            "One-Tailed P-Value: 0.20666186511259688\n",
            "Fail to Reject H₀: The law 'Mental Health Prohibitor' does not significantly affect school shooting rates.\n"
          ]
        }
      ]
    },
    {
      "cell_type": "code",
      "source": [
        "# Replace with your actual filenames\n",
        "shooting_data_file = \"school_shooting_incidents_per_state.csv\"\n",
        "law_data_file = '/content/Gun_Law - Law Adoption Comparison as of 2021.csv'\n",
        "\n",
        "# Load the dataframes\n",
        "shooting_df = pd.read_csv(shooting_data_file)\n",
        "law_df = pd.read_csv(law_data_file)\n",
        "\n",
        "# Merge the dataframes (assuming 'State' is the common column)\n",
        "merged_df = pd.merge(shooting_df, law_df, on='State')\n",
        "\n",
        "# Specify the law to test\n",
        "law_to_test = 'Mental Health record reporting'  # Replace with the column name of the law\n",
        "\n",
        "# Separate the data into two groups: adopted (1) and not adopted (0)\n",
        "adopted_group = merged_df[merged_df[law_to_test] == 1]['incident_count']\n",
        "not_adopted_group = merged_df[merged_df[law_to_test] == 0]['incident_count']\n",
        "\n",
        "# Perform a one-tailed t-test (using equal_var=False for Welch’s t-test)\n",
        "t_stat, p_value = ttest_ind(adopted_group, not_adopted_group, equal_var=False)\n",
        "\n",
        "# Since we are performing a one-tailed test, divide the p-value by 2\n",
        "one_tailed_p_value = p_value / 2\n",
        "\n",
        "# Set the significance level\n",
        "alpha = 0.05\n",
        "\n",
        "# Print results\n",
        "print(f\"\\nHypothesis Test for Law: {law_to_test}\")\n",
        "print(f\"T-Statistic: {t_stat}\")\n",
        "print(f\"One-Tailed P-Value: {one_tailed_p_value}\")\n",
        "\n",
        "if one_tailed_p_value < alpha:\n",
        "    print(f\"Reject H₀: The law '{law_to_test}' significantly reduces school shooting rates.\")\n",
        "else:\n",
        "    print(f\"Fail to Reject H₀: The law '{law_to_test}' does not significantly affect school shooting rates.\")"
      ],
      "metadata": {
        "colab": {
          "base_uri": "https://localhost:8080/"
        },
        "id": "K4ci69TxxA0K",
        "outputId": "5ce5f3c0-5eb5-4056-a543-cd882fac271e"
      },
      "execution_count": null,
      "outputs": [
        {
          "output_type": "stream",
          "name": "stdout",
          "text": [
            "\n",
            "Hypothesis Test for Law: Mental Health record reporting\n",
            "T-Statistic: 0.21105673162315697\n",
            "One-Tailed P-Value: 0.41972345392577465\n",
            "Fail to Reject H₀: The law 'Mental Health record reporting' does not significantly affect school shooting rates.\n"
          ]
        }
      ]
    },
    {
      "cell_type": "markdown",
      "source": [
        "ESSA Hypothesis testing\n"
      ],
      "metadata": {
        "id": "TgtXNdMPXbCo"
      }
    },
    {
      "cell_type": "code",
      "source": [
        "\n",
        "import pandas as pd\n",
        "from scipy.stats import ttest_ind\n",
        "\n",
        "\n",
        "shooting_data_file = \"/content/public v3 .csv\"\n",
        "ESSA_data_file = '/content/ESSA 2022-2007.xlsx'\n",
        "\n",
        "# Load the dataframes\n",
        "shooting_df = pd.read_csv(shooting_data_file)\n",
        "ESSA_df = pd.read_excel(ESSA_data_file)\n",
        "\n",
        "\n",
        "shooting_df[['Year', 'state']] = shooting_df['Year;State'].str.split(';', expand=True)\n",
        "\n",
        "# Manual mapping of full state names to their abbreviations\n",
        "state_name_to_abbrev = {\n",
        "    'ALABAMA': 'AL', 'ALASKA': 'AK', 'ARIZONA': 'AZ', 'ARKANSAS': 'AR', 'CALIFORNIA': 'CA',\n",
        "    'COLORADO': 'CO', 'CONNECTICUT': 'CT', 'DELAWARE': 'DE', 'DISTRICT OF COLUMBIA': 'DC',\n",
        "    'FLORIDA': 'FL', 'GEORGIA': 'GA', 'HAWAII': 'HI', 'IDAHO': 'ID', 'ILLINOIS': 'IL',\n",
        "    'INDIANA': 'IN', 'IOWA': 'IA', 'KANSAS': 'KS', 'KENTUCKY': 'KY', 'LOUISIANA': 'LA',\n",
        "    'MAINE': 'ME', 'MARYLAND': 'MD', 'MASSACHUSETTS': 'MA', 'MICHIGAN': 'MI', 'MINNESOTA': 'MN',\n",
        "    'MISSISSIPPI': 'MS', 'MISSOURI': 'MO', 'MONTANA': 'MT', 'NEBRASKA': 'NE', 'NEVADA': 'NV',\n",
        "    'NEW HAMPSHIRE': 'NH', 'NEW JERSEY': 'NJ', 'NEW MEXICO': 'NM', 'NEW YORK': 'NY',\n",
        "    'NORTH CAROLINA': 'NC', 'NORTH DAKOTA': 'ND', 'OHIO': 'OH', 'OKLAHOMA': 'OK',\n",
        "    'OREGON': 'OR', 'PENNSYLVANIA': 'PA', 'RHODE ISLAND': 'RI', 'SOUTH CAROLINA': 'SC',\n",
        "    'SOUTH DAKOTA': 'SD', 'TENNESSEE': 'TN', 'TEXAS': 'TX', 'UTAH': 'UT', 'VERMONT': 'VT',\n",
        "    'VIRGINIA': 'VA', 'WASHINGTON': 'WA', 'WEST VIRGINIA': 'WV', 'WISCONSIN': 'WI', 'WYOMING': 'WY'\n",
        "}\n",
        "\n",
        "# Clean ESSA state names by stripping spaces and converting to uppercase\n",
        "ESSA_df['state'] = ESSA_df['state'].str.strip().str.upper().map(state_name_to_abbrev)\n",
        "\n",
        "# Melt the ESSA DataFrame to long format for year-wise comparison\n",
        "ESSA_long_df = ESSA_df.melt(id_vars='state', var_name='Year', value_name='PPCS')\n",
        "\n",
        "# Ensure the year column matches the shooting data\n",
        "ESSA_long_df['Year'] = ESSA_long_df['Year'].astype(str)\n",
        "shooting_df['Year'] = shooting_df['Year'].astype(str)\n",
        "\n",
        "# Count the number of incidents per state and year\n",
        "incident_counts = shooting_df.groupby(['state', 'Year']).size().reset_index(name='incident_count')\n",
        "\n",
        "# Merge the incident counts with the ESSA data\n",
        "merged_df = pd.merge(incident_counts, ESSA_long_df, on=['state', 'Year'])\n",
        "\n",
        "median_essa = merged_df['PPCS'].median()\n",
        "\n",
        "# Split into High and Low ESSA expenditure groups\n",
        "high_essa_group = merged_df[merged_df['PPCS'] > median_essa]['incident_count']\n",
        "low_essa_group = merged_df[merged_df['PPCS'] <= median_essa]['incident_count']\n",
        "\n",
        "# Perform a one-tailed t-test\n",
        "t_stat, p_value = ttest_ind(high_essa_group, low_essa_group, equal_var=False)\n",
        "\n",
        "# Adjust for one-tailed test\n",
        "one_tailed_p_value = p_value / 2\n",
        "\n",
        "# Set significance level\n",
        "alpha = 0.05\n",
        "\n",
        "# Results\n",
        "print(\"Hypothesis Test for ESSA Expenditure\")\n",
        "print(f\"T-Statistic: {t_stat}\")\n",
        "print(f\"One-Tailed P-Value: {one_tailed_p_value}\")\n",
        "\n",
        "if one_tailed_p_value < alpha and t_stat < 0:\n",
        "    print(\"Reject H₀: Higher ESSA expenditure significantly reduces school shooting rates.\")\n",
        "else:\n",
        "    print(\"Fail to Reject H₀: Higher ESSA expenditure does not significantly reduce school shooting rates.\")\n"
      ],
      "metadata": {
        "id": "emWw_B1Vybzx",
        "outputId": "1bd6cdf7-0ec2-4680-891a-88a6acbf7007",
        "colab": {
          "base_uri": "https://localhost:8080/"
        }
      },
      "execution_count": null,
      "outputs": [
        {
          "output_type": "stream",
          "name": "stdout",
          "text": [
            "Hypothesis Test for ESSA Expenditure\n",
            "T-Statistic: 3.8920024805010955\n",
            "One-Tailed P-Value: 6.0179899290765005e-05\n",
            "Fail to Reject H₀: Higher ESSA expenditure does not significantly reduce school shooting rates.\n"
          ]
        }
      ]
    },
    {
      "cell_type": "markdown",
      "source": [],
      "metadata": {
        "id": "7H6hA4s2ybny"
      }
    },
    {
      "cell_type": "code",
      "source": [
        "import pandas as pd\n",
        "import numpy as np\n",
        "from scipy.stats import t\n",
        "import matplotlib.pyplot as plt\n",
        "import seaborn as sns\n",
        "\n",
        "# Load the PPCS spending and school shooting data\n",
        "ppcs_file = \"/content/ESSA 2022-2007.xlsx\"\n",
        "shooting_file = \"/content/public v3 .csv\"\n",
        "\n",
        "ppcs_df = pd.read_excel(ppcs_file)\n",
        "shooting_df = pd.read_csv(shooting_file)\n",
        "\n",
        "# Clean the PPCS data\n",
        "ppcs_cleaned_df = ppcs_df[['state', 2022]].copy()\n",
        "ppcs_cleaned_df.columns = ['State', 'PPCS_PPCS']\n",
        "ppcs_cleaned_df['State'] = ppcs_cleaned_df['State'].astype(str).str.strip()\n",
        "ppcs_cleaned_df['PPCS_PPCS'] = pd.to_numeric(ppcs_cleaned_df['PPCS_PPCS'], errors='coerce')\n",
        "\n",
        "# Clean the shooting data\n",
        "shooting_df[['Year', 'State']] = shooting_df['Year;state'].str.split(';', expand=True)\n",
        "shooting_df['State'] = shooting_df['State'].str.strip().str.upper()\n",
        "shooting_counts = shooting_df.groupby('State').size().reset_index(name='incident_count')\n",
        "\n",
        "# Map full state names to abbreviations\n",
        "state_abbreviation_map = {\n",
        "    'Alabama': 'AL', 'Alaska': 'AK', 'Arizona': 'AZ', 'Arkansas': 'AR',\n",
        "    'California': 'CA', 'Colorado': 'CO', 'Connecticut': 'CT',\n",
        "    'Delaware': 'DE', 'District of Columbia': 'DC', 'Florida': 'FL',\n",
        "    'Georgia': 'GA', 'Hawaii': 'HI', 'Idaho': 'ID', 'Illinois': 'IL',\n",
        "    'Indiana': 'IN', 'Iowa': 'IA', 'Kansas': 'KS', 'Kentucky': 'KY',\n",
        "    'Louisiana': 'LA', 'Maine': 'ME', 'Maryland': 'MD',\n",
        "    'Massachusetts': 'MA', 'Michigan': 'MI', 'Minnesota': 'MN',\n",
        "    'Mississippi': 'MS', 'Missouri': 'MO', 'Montana': 'MT',\n",
        "    'Nebraska': 'NE', 'Nevada': 'NV', 'New Hampshire': 'NH',\n",
        "    'New Jersey': 'NJ', 'New Mexico': 'NM', 'New York': 'NY',\n",
        "    'North Carolina': 'NC', 'North Dakota': 'ND', 'Ohio': 'OH',\n",
        "    'Oklahoma': 'OK', 'Oregon': 'OR', 'Pennsylvania': 'PA',\n",
        "    'Rhode Island': 'RI', 'South Carolina': 'SC', 'South Dakota': 'SD',\n",
        "    'Tennessee': 'TN', 'Texas': 'TX', 'Utah': 'UT', 'Vermont': 'VT',\n",
        "    'Virginia': 'VA', 'Washington': 'WA', 'West Virginia': 'WV',\n",
        "    'Wisconsin': 'WI', 'Wyoming': 'WY'\n",
        "}\n",
        "ppcs_cleaned_df['State'] = ppcs_cleaned_df['State'].map(state_abbreviation_map)\n",
        "\n",
        "# Remove unmatched entries\n",
        "shooting_counts = shooting_counts[shooting_counts['State'].isin(ppcs_cleaned_df['State'])]\n",
        "\n",
        "# Merge datasets\n",
        "merged_df = pd.merge(ppcs_cleaned_df, shooting_counts, on='State', how='inner')\n",
        "\n",
        "# Split data based on PPCS spending\n",
        "mean_ppcs = merged_df['PPCS_PPCS'].mean()\n",
        "high_ppcs = merged_df[merged_df['PPCS_PPCS'] > mean_ppcs]['incident_count']\n",
        "low_ppcs = merged_df[merged_df['PPCS_PPCS'] <= mean_ppcs]['incident_count']\n",
        "\n",
        "# Perform t-test statistic manually\n",
        "df = len(high_ppcs) + len(low_ppcs) - 2\n",
        "critical_value = np.abs(t.ppf(0.05, df))\n",
        "\n",
        "# Calculate t-statistic manually\n",
        "mean_diff = high_ppcs.mean() - low_ppcs.mean()\n",
        "pooled_std = np.sqrt(high_ppcs.var(ddof=1)/len(high_ppcs) + low_ppcs.var(ddof=1)/len(low_ppcs))\n",
        "t_stat = mean_diff / pooled_std\n",
        "\n",
        "print(f\"T-statistic: {t_stat:.3f}, Critical Value: {critical_value:.3f}\")\n",
        "\n",
        "# Hypothesis Decision\n",
        "if t_stat < -critical_value:\n",
        "    print(\"Reject H₀: Higher PPCS spending significantly reduces school shooting rates.\")\n",
        "else:\n",
        "    print(\"Fail to Reject H₀: Higher PPCS spending does not significantly affect school shooting rates.\")\n",
        "\n",
        "# Visualization matching the provided structure\n",
        "groups = pd.DataFrame({'Values': pd.concat([high_ppcs, low_ppcs]),\n",
        "                       'Group': [1]*len(high_ppcs) + [2]*len(low_ppcs)})\n",
        "\n",
        "sns.pointplot(data=groups, x='Group', y='Values',\n",
        "              errorbar=('ci', 95), color='black', join=False, capsize=.8)\n",
        "plt.xlabel('Group')\n",
        "plt.ylabel('Values')\n",
        "plt.title('Comparison of Group Means with 95% Confidence Intervals')\n",
        "plt.show()\n"
      ],
      "metadata": {
        "id": "nzIkXVtWThlx",
        "outputId": "2790d48b-283f-4ed1-c0c0-761b01b6e75a",
        "colab": {
          "base_uri": "https://localhost:8080/",
          "height": 617
        }
      },
      "execution_count": null,
      "outputs": [
        {
          "output_type": "stream",
          "name": "stdout",
          "text": [
            "T-statistic: -0.243, Critical Value: 1.677\n",
            "Fail to Reject H₀: Higher PPCS spending does not significantly affect school shooting rates.\n"
          ]
        },
        {
          "output_type": "stream",
          "name": "stderr",
          "text": [
            "<ipython-input-1-4e2370b3dc24>:78: UserWarning: \n",
            "\n",
            "The `join` parameter is deprecated and will be removed in v0.15.0. You can remove the line between points with `linestyle='none'`.\n",
            "\n",
            "  sns.pointplot(data=groups, x='Group', y='Values',\n"
          ]
        },
        {
          "output_type": "display_data",
          "data": {
            "text/plain": [
              "<Figure size 640x480 with 1 Axes>"
            ],
            "image/png": "[encoded data removed]"
          },
          "metadata": {}
        }
      ]
    },
    {
      "cell_type": "code",
      "source": [
        "import pandas as pd\n",
        "\n",
        "# Load the file\n",
        "file_path = \"/content/State_Gun_law.xlsx\"\n",
        "laws_df = pd.read_excel(file_path)\n",
        "\n",
        "# Inspect columns\n",
        "print(laws_df.columns)\n",
        "\n"
      ],
      "metadata": {
        "id": "uLzY4TYncCGW",
        "outputId": "159bd668-eab0-4c99-eaff-1e5e194143b1",
        "colab": {
          "base_uri": "https://localhost:8080/"
        }
      },
      "execution_count": 14,
      "outputs": [
        {
          "output_type": "stream",
          "name": "stdout",
          "text": [
            "Index([       'State', 'Abbreviation',           2006,           2007,\n",
            "                 2008,           2009,           2010,           2011,\n",
            "                 2012,           2013,           2014,           2015,\n",
            "                 2016,           2017,           2018,           2019,\n",
            "                 2020,           2021,           2022],\n",
            "      dtype='object')\n"
          ]
        }
      ]
    },
    {
      "cell_type": "code",
      "source": [
        "import pandas as pd\n",
        "import numpy as np\n",
        "from scipy.stats import t\n",
        "import matplotlib.pyplot as plt\n",
        "import seaborn as sns\n",
        "\n",
        "# Load the datasets\n",
        "gun_laws_file = \"/content/copie_State_Gun_law.xlsx\"\n",
        "shooting_file = \"/content/public v3 .csv\"\n",
        "\n",
        "# Load the data\n",
        "gun_laws_df = pd.read_excel(gun_laws_file)\n",
        "shooting_df = pd.read_csv(shooting_file)\n",
        "\n",
        "# Clean and preprocess the gun laws dataset\n",
        "gun_laws_cleaned = gun_laws_df[['State', 'Abbreviation', 2022]].copy()\n",
        "gun_laws_cleaned.columns = ['State', 'Abbreviation', 'Gun_Law_Strictness']\n",
        "gun_laws_cleaned['Gun_Law_Strictness'] = pd.to_numeric(gun_laws_cleaned['Gun_Law_Strictness'], errors='coerce')\n",
        "\n",
        "# Clean and preprocess the shooting dataset\n",
        "shooting_df[['Year', 'State']] = shooting_df['Year;state'].str.split(';', expand=True)\n",
        "shooting_df['State'] = shooting_df['State'].str.strip().str.upper()\n",
        "shooting_counts = shooting_df.groupby('State').size().reset_index(name='Incident_Count')\n",
        "\n",
        "# Merge datasets on state abbreviation\n",
        "merged_df = pd.merge(gun_laws_cleaned, shooting_counts, left_on='Abbreviation', right_on='State', how='inner')\n",
        "\n",
        "# Define strict (upper quartile) and lenient (lower quartile) firearm law groups\n",
        "upper_quartile = merged_df['Gun_Law_Strictness'].quantile(0.75)\n",
        "lower_quartile = merged_df['Gun_Law_Strictness'].quantile(0.25)\n",
        "\n",
        "strict_laws = merged_df[merged_df['Gun_Law_Strictness'] >= upper_quartile]['Incident_Count']\n",
        "lenient_laws = merged_df[merged_df['Gun_Law_Strictness'] <= lower_quartile]['Incident_Count']\n",
        "\n",
        "# Calculate t-statistic manually\n",
        "mean_diff = strict_laws.mean() - lenient_laws.mean()\n",
        "pooled_std = np.sqrt(strict_laws.var(ddof=1)/len(strict_laws) + lenient_laws.var(ddof=1)/len(lenient_laws))\n",
        "t_stat = mean_diff / pooled_std\n",
        "\n",
        "# Degrees of freedom\n",
        "df = len(strict_laws) + len(lenient_laws) - 2\n",
        "critical_value = np.abs(t.ppf(0.05, df))\n",
        "\n",
        "# Hypothesis Decision\n",
        "print(f\"T-statistic: {t_stat:.3f}, Critical Value: {critical_value:.3f}\")\n",
        "if np.abs(t_stat) > critical_value:\n",
        "    print(\"Reject H₀: There is a significant difference in school shooting rates between states with strict and lenient firearm laws.\")\n",
        "else:\n",
        "    print(\"Fail to Reject H₀: There is no significant difference in school shooting rates between the groups.\")\n",
        "\n",
        "# Visualization\n",
        "groups = pd.DataFrame({'Values': pd.concat([strict_laws, lenient_laws]),\n",
        "                       'Group': ['Strict Laws']*len(strict_laws) + ['Lenient Laws']*len(lenient_laws)})\n",
        "\n",
        "sns.pointplot(data=groups, x='Group', y='Values',\n",
        "              errorbar=('ci', 95), color='black', join=False, capsize=.8)\n",
        "plt.xlabel('Firearm Law Strictness')\n",
        "plt.ylabel('School Shooting Incident Count')\n",
        "plt.title('Comparison of School Shooting Rates by Firearm Law Strictness')\n",
        "plt.show()\n",
        "\n"
      ],
      "metadata": {
        "id": "da6yjCijU8DC",
        "outputId": "0e302166-9014-4b71-ef42-8e1f80619008",
        "colab": {
          "base_uri": "https://localhost:8080/",
          "height": 617
        }
      },
      "execution_count": 20,
      "outputs": [
        {
          "output_type": "stream",
          "name": "stdout",
          "text": [
            "T-statistic: 2.434, Critical Value: 1.711\n",
            "Reject H₀: There is a significant difference in school shooting rates between states with strict and lenient firearm laws.\n"
          ]
        },
        {
          "output_type": "stream",
          "name": "stderr",
          "text": [
            "<ipython-input-20-3bcb3815225e>:55: UserWarning: \n",
            "\n",
            "The `join` parameter is deprecated and will be removed in v0.15.0. You can remove the line between points with `linestyle='none'`.\n",
            "\n",
            "  sns.pointplot(data=groups, x='Group', y='Values',\n"
          ]
        },
        {
          "output_type": "display_data",
          "data": {
            "text/plain": [
              "<Figure size 640x480 with 1 Axes>"
            ],
            "image/png": "[encoded data removed]"
          },
          "metadata": {}
        }
      ]
    }
  ]
}